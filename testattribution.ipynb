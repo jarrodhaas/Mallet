{
 "cells": [
  {
   "cell_type": "code",
   "execution_count": 2,
   "metadata": {},
   "outputs": [],
   "source": [
    "%matplotlib ipympl"
   ]
  },
  {
   "cell_type": "code",
   "execution_count": 3,
   "metadata": {},
   "outputs": [],
   "source": [
    "data = ['val-id', 'test-id', 'test-ood']\n",
    "layers = ['layer1', 'layer2', 'layer3', 'layer4']"
   ]
  },
  {
   "cell_type": "code",
   "execution_count": 6,
   "metadata": {},
   "outputs": [
    {
     "name": "stdout",
     "output_type": "stream",
     "text": [
      "(1000, 256)\n",
      "(1000, 512)\n",
      "(1000, 1024)\n",
      "(1000, 2048)\n"
     ]
    }
   ],
   "source": [
    "import os\n",
    "import numpy as np\n",
    "\n",
    "for layer in layers:\n",
    "    print(np.load(os.path.join('out', f'{data[0]}_{layer}.npy')).shape)"
   ]
  },
  {
   "cell_type": "code",
   "execution_count": 3,
   "metadata": {},
   "outputs": [],
   "source": [
    "import os\n",
    "import numpy as np\n",
    "\n",
    "data_name = 'val-id'\n",
    "layer_name = 'layer4'\n",
    "\n",
    "attribution = np.load(os.path.join('out', f'{data_name}_{layer_name}.npy'))\n",
    "labels = np.load(os.path.join('out', f'{data_name}_{layer_name}_labels.npy'))"
   ]
  },
  {
   "cell_type": "code",
   "execution_count": 6,
   "metadata": {},
   "outputs": [
    {
     "data": {
      "application/vnd.jupyter.widget-view+json": {
       "model_id": "710a0102d9b6481b82ffcd1127831c04",
       "version_major": 2,
       "version_minor": 0
      },
      "text/plain": [
       "Canvas(toolbar=Toolbar(toolitems=[('Home', 'Reset original view', 'home', 'home'), ('Back', 'Back to previous …"
      ]
     },
     "metadata": {},
     "output_type": "display_data"
    },
    {
     "data": {
      "text/plain": [
       "<matplotlib.legend.Legend at 0x7f480c3ad410>"
      ]
     },
     "execution_count": 6,
     "metadata": {},
     "output_type": "execute_result"
    }
   ],
   "source": [
    "import matplotlib.pyplot as plt\n",
    "\n",
    "\n",
    "def set_box_color(bp, color):\n",
    "    plt.setp(bp['boxes'], color=color)\n",
    "    plt.setp(bp['whiskers'], color=color)\n",
    "    plt.setp(bp['caps'], color=color)\n",
    "    plt.setp(bp['medians'], color=color)\n",
    "\n",
    "\n",
    "fig, ax = plt.subplots(figsize=(40, 24))\n",
    "for ix, (label, offset) in enumerate(zip(np.unique(labels), [-0.4, 0.4])):\n",
    "    color = 'blue' if ix else 'red'\n",
    "    label_mask = labels == label\n",
    "    bps = ax.boxplot(attribution[label_mask].tolist(), positions=np.arange(label_mask.sum()) * 2.0 + offset, sym='', widths=0.6)\n",
    "    set_box_color(bps, color)\n",
    "    \n",
    "    plt.plot([], c=color, label=label)\n",
    "plt.legend()\n",
    "    \n",
    "#     variance = description['mean']\n",
    "# print(describe(attribution[labels == 1], axis=0))"
   ]
  },
  {
   "cell_type": "code",
   "execution_count": null,
   "metadata": {},
   "outputs": [],
   "source": []
  }
 ],
 "metadata": {
  "kernelspec": {
   "display_name": "hammersack",
   "language": "python",
   "name": "hammersack"
  },
  "language_info": {
   "codemirror_mode": {
    "name": "ipython",
    "version": 3
   },
   "file_extension": ".py",
   "mimetype": "text/x-python",
   "name": "python",
   "nbconvert_exporter": "python",
   "pygments_lexer": "ipython3",
   "version": "3.7.4"
  }
 },
 "nbformat": 4,
 "nbformat_minor": 4
}
