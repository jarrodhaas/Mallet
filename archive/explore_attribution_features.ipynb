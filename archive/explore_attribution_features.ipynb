{
 "cells": [
  {
   "cell_type": "code",
   "execution_count": 1,
   "metadata": {},
   "outputs": [],
   "source": [
    "%matplotlib ipympl"
   ]
  },
  {
   "cell_type": "code",
   "execution_count": 2,
   "metadata": {},
   "outputs": [],
   "source": [
    "data = ['val-id', 'test-id', 'test-ood']\n",
    "layers = ['layer1', 'layer2', 'layer3', 'layer4']"
   ]
  },
  {
   "cell_type": "code",
   "execution_count": 3,
   "metadata": {},
   "outputs": [
    {
     "name": "stdout",
     "output_type": "stream",
     "text": [
      "(2, 8000, 256)\n",
      "(2, 8000, 512)\n",
      "(2, 8000, 1024)\n",
      "(2, 8000, 2048)\n"
     ]
    }
   ],
   "source": [
    "import os\n",
    "import numpy as np\n",
    "\n",
    "for layer in layers:\n",
    "    print(np.load(os.path.join('out', f'{data[2]}_{layer}.npy')).shape)"
   ]
  },
  {
   "cell_type": "markdown",
   "metadata": {},
   "source": [
    "### Plotting In-distribution Val conductance for different class members"
   ]
  },
  {
   "cell_type": "code",
   "execution_count": 4,
   "metadata": {},
   "outputs": [
    {
     "data": {
      "application/vnd.jupyter.widget-view+json": {
       "model_id": "9dc826bfb8634b838b38e3868b6d4ddf",
       "version_major": 2,
       "version_minor": 0
      },
      "text/plain": [
       "Canvas(toolbar=Toolbar(toolitems=[('Home', 'Reset original view', 'home', 'home'), ('Back', 'Back to previous …"
      ]
     },
     "metadata": {},
     "output_type": "display_data"
    },
    {
     "data": {
      "text/plain": [
       "<matplotlib.legend.Legend at 0x7f5976938c50>"
      ]
     },
     "execution_count": 4,
     "metadata": {},
     "output_type": "execute_result"
    }
   ],
   "source": [
    "import matplotlib.pyplot as plt\n",
    "import os\n",
    "import numpy as np\n",
    "\n",
    "data_name = 'val-id'\n",
    "layer_name = 'layer4'\n",
    "\n",
    "attribution = np.load(os.path.join('out', f'{data_name}_{layer_name}.npy'))\n",
    "labels = np.load(os.path.join('out', f'{data_name}_{layer_name}_labels.npy'))\n",
    "\n",
    "def set_box_color(bp, color):\n",
    "    plt.setp(bp['boxes'], color=color)\n",
    "    plt.setp(bp['whiskers'], color=color)\n",
    "    plt.setp(bp['caps'], color=color)\n",
    "    plt.setp(bp['medians'], color=color)\n",
    "\n",
    "\n",
    "fig, ax = plt.subplots(figsize=(40, 24))\n",
    "for ix, (label, offset) in enumerate(zip(np.unique(labels), [-0.4, 0.4])):\n",
    "    color = 'blue' if ix else 'red'\n",
    "    label_mask = labels == label\n",
    "    bps = ax.boxplot(attribution[label_mask].tolist(), positions=np.arange(label_mask.sum()) * 2.0 + offset, sym='', widths=0.6)\n",
    "    set_box_color(bps, color)\n",
    "    \n",
    "    plt.plot([], c=color, label=label)\n",
    "plt.legend()"
   ]
  },
  {
   "cell_type": "markdown",
   "metadata": {},
   "source": [
    "### Plotting In-distribution TEST conductance for different class members"
   ]
  },
  {
   "cell_type": "code",
   "execution_count": 5,
   "metadata": {},
   "outputs": [
    {
     "data": {
      "application/vnd.jupyter.widget-view+json": {
       "model_id": "c32bc2e050674920bc463fe2d1ac69bb",
       "version_major": 2,
       "version_minor": 0
      },
      "text/plain": [
       "Canvas(toolbar=Toolbar(toolitems=[('Home', 'Reset original view', 'home', 'home'), ('Back', 'Back to previous …"
      ]
     },
     "metadata": {},
     "output_type": "display_data"
    },
    {
     "data": {
      "text/plain": [
       "<matplotlib.legend.Legend at 0x7f5979380fd0>"
      ]
     },
     "execution_count": 5,
     "metadata": {},
     "output_type": "execute_result"
    }
   ],
   "source": [
    "import matplotlib.pyplot as plt\n",
    "import os\n",
    "import numpy as np\n",
    "\n",
    "data_name = 'test-id'\n",
    "layer_name = 'layer4'\n",
    "\n",
    "attribution = np.load(os.path.join('out', f'{data_name}_{layer_name}.npy'))\n",
    "labels = np.load(os.path.join('out', f'{data_name}_{layer_name}_labels.npy'))\n",
    "\n",
    "def set_box_color(bp, color):\n",
    "    plt.setp(bp['boxes'], color=color)\n",
    "    plt.setp(bp['whiskers'], color=color)\n",
    "    plt.setp(bp['caps'], color=color)\n",
    "    plt.setp(bp['medians'], color=color)\n",
    "\n",
    "\n",
    "fig, ax = plt.subplots(figsize=(40, 24))\n",
    "for ix, (label, offset) in enumerate(zip(np.unique(labels), [-0.4, 0.4])):\n",
    "    color = 'blue' if ix else 'red'\n",
    "    label_mask = labels == label\n",
    "    bps = ax.boxplot(attribution[label, label_mask].tolist(), positions=np.arange(label_mask.sum()) * 2.0 + offset, sym='', widths=0.6)\n",
    "    set_box_color(bps, color)\n",
    "    \n",
    "    plt.plot([], c=color, label=label)\n",
    "plt.legend()"
   ]
  },
  {
   "cell_type": "markdown",
   "metadata": {},
   "source": [
    "### Note that usually we woulnd't know the red and blue separation for the above since this is test"
   ]
  },
  {
   "cell_type": "markdown",
   "metadata": {},
   "source": [
    "### Now let's look at the class activations for class 0 and 1 without knowing the true labels on our out of distribtion images"
   ]
  },
  {
   "cell_type": "code",
   "execution_count": 6,
   "metadata": {},
   "outputs": [
    {
     "data": {
      "application/vnd.jupyter.widget-view+json": {
       "model_id": "0ae6d759c6d146aba20cf0fe8bb807f5",
       "version_major": 2,
       "version_minor": 0
      },
      "text/plain": [
       "Canvas(toolbar=Toolbar(toolitems=[('Home', 'Reset original view', 'home', 'home'), ('Back', 'Back to previous …"
      ]
     },
     "metadata": {},
     "output_type": "display_data"
    },
    {
     "name": "stdout",
     "output_type": "stream",
     "text": [
      "(1000, 256)\n",
      "(1000, 256)\n"
     ]
    },
    {
     "data": {
      "text/plain": [
       "<matplotlib.legend.Legend at 0x7f5960818e10>"
      ]
     },
     "execution_count": 6,
     "metadata": {},
     "output_type": "execute_result"
    }
   ],
   "source": [
    "import matplotlib.pyplot as plt\n",
    "import os\n",
    "import numpy as np\n",
    "\n",
    "data_name = 'test-ood'\n",
    "layer_name = 'layer1'\n",
    "\n",
    "attribution = np.load(os.path.join('out', f'{data_name}_{layer_name}.npy'))\n",
    "# labels = np.load(os.path.join('out', f'{data_name}_{layer_name}_labels.npy'))\n",
    "\n",
    "def set_box_color(bp, color):\n",
    "    plt.setp(bp['boxes'], color=color)\n",
    "    plt.setp(bp['whiskers'], color=color)\n",
    "    plt.setp(bp['caps'], color=color)\n",
    "    plt.setp(bp['medians'], color=color)\n",
    "\n",
    "    \n",
    "sample = np.random.choice(np.arange(attribution.shape[1]), size=1000, replace=False)\n",
    "fig, ax = plt.subplots(figsize=(40, 24))\n",
    "for label, offset in enumerate([-0.4, 0.4]):\n",
    "    color = 'blue' if label else 'red'\n",
    "    bps = ax.boxplot(attribution[label, sample].tolist(), positions=np.arange(len(sample)) * 2.0 + offset, sym='', widths=0.6)\n",
    "    set_box_color(bps, color)\n",
    "    \n",
    "    plt.plot([], c=color, label=label)\n",
    "plt.legend()"
   ]
  },
  {
   "cell_type": "code",
   "execution_count": 84,
   "metadata": {},
   "outputs": [
    {
     "data": {
      "text/plain": [
       "array([1, 1, 1, 1, 1])"
      ]
     },
     "execution_count": 84,
     "metadata": {},
     "output_type": "execute_result"
    }
   ],
   "source": [
    "from sklearn.svm import OneClassSVM\n",
    "from sklearn.ensemble import IsolationForest\n",
    "import numpy as np\n",
    "\n",
    "\n",
    "outliers_fraction = 0.\n",
    "classifier = IsolationForest(behaviour='new', contamination=outliers_fraction, random_state=42)\n",
    "\n",
    "X = [[0], [0.44], [0.45], [0.46], [1]]\n",
    "X = np.array(X)\n",
    "\n",
    "classifier.fit(X)\n",
    "\n",
    "# clf = OneClassSVM(gamma='auto', nu=0.001).fit(X)\n",
    "classifier.predict(X)"
   ]
  },
  {
   "cell_type": "code",
   "execution_count": 107,
   "metadata": {},
   "outputs": [],
   "source": [
    "from sklearn.svm import OneClassSVM\n",
    "\n",
    "data_name = 'val-id'\n",
    "layer_name = 'layer4'\n",
    "\n",
    "attribution = np.load(os.path.join('out', f'{data_name}_{layer_name}.npy'))\n",
    "labels = np.load(os.path.join('out', f'{data_name}_{layer_name}_labels.npy'))\n",
    "\n",
    "dog_classifier = IsolationForest(behaviour='new', contamination=0., random_state=42)\n",
    "dog_classifier = classifier.fit(attribution[labels == 0])\n",
    "\n",
    "cat_classifier = IsolationForest(behaviour='new', contamination=0., random_state=42)\n",
    "cat_classifier = classifier.fit(attribution[labels == 1])"
   ]
  },
  {
   "cell_type": "code",
   "execution_count": 108,
   "metadata": {},
   "outputs": [
    {
     "data": {
      "text/plain": [
       "(array([-1,  1]), array([ 63, 937]))"
      ]
     },
     "execution_count": 108,
     "metadata": {},
     "output_type": "execute_result"
    }
   ],
   "source": [
    "pred_on_train = classifier.predict(attribution)\n",
    "np.unique(pred_on_train, return_counts=True)"
   ]
  },
  {
   "cell_type": "code",
   "execution_count": 109,
   "metadata": {},
   "outputs": [
    {
     "name": "stdout",
     "output_type": "stream",
     "text": [
      "(2, 2000, 2048)\n",
      "(2000, 2048)\n",
      "(2000,)\n"
     ]
    }
   ],
   "source": [
    "data_name = 'test-id'\n",
    "layer_name = 'layer4'\n",
    "\n",
    "test_id_attribution = np.load(os.path.join('out', f'{data_name}_{layer_name}.npy'))\n",
    "test_id_labels = np.load(os.path.join('out', f'{data_name}_{layer_name}_labels.npy'))\n",
    "print(test_id_attribution.shape)\n",
    "print(test_id_attribution[0].shape)\n",
    "print(test_id_labels.shape)\n",
    "\n",
    "# prediction for in distribution of each attribution, where attributions are measured against class 0, regardless of the true class.\n",
    "# for all dog attributions, is the attribution in or out of distribution. ie is the image a dog\n",
    "pred_in_zero = dog_classifier.predict(test_id_attribution[0])\n",
    "# opposite\n",
    "pred_in_one = cat_classifier.predict(test_id_attribution[1])"
   ]
  },
  {
   "cell_type": "code",
   "execution_count": 110,
   "metadata": {},
   "outputs": [
    {
     "data": {
      "text/plain": [
       "(array([-1,  1]), array([ 173, 1827]))"
      ]
     },
     "execution_count": 110,
     "metadata": {},
     "output_type": "execute_result"
    }
   ],
   "source": [
    "np.unique(pred_in_zero, return_counts=True)"
   ]
  },
  {
   "cell_type": "code",
   "execution_count": 111,
   "metadata": {},
   "outputs": [
    {
     "name": "stdout",
     "output_type": "stream",
     "text": [
      "              precision    recall  f1-score   support\n",
      "\n",
      "       False       0.86      0.15      0.25      1000\n",
      "        True       0.53      0.97      0.69      1000\n",
      "\n",
      "    accuracy                           0.56      2000\n",
      "   macro avg       0.69      0.56      0.47      2000\n",
      "weighted avg       0.69      0.56      0.47      2000\n",
      "\n"
     ]
    }
   ],
   "source": [
    "from sklearn.metrics import classification_report\n",
    "\n",
    "# predicted out of distribution are given a FALSE. Else given a TRUE.\n",
    "pred_in_zero[pred_in_zero == -1] = 0\n",
    "\n",
    "# boolean list: true if dog, false otherwise\n",
    "dog_images_mask = (test_id_labels == 0)\n",
    "print(classification_report(dog_images_mask, pred_in_zero))"
   ]
  },
  {
   "cell_type": "code",
   "execution_count": 112,
   "metadata": {},
   "outputs": [
    {
     "name": "stdout",
     "output_type": "stream",
     "text": [
      "              precision    recall  f1-score   support\n",
      "\n",
      "       False       0.10      0.01      0.02      1000\n",
      "        True       0.48      0.90      0.62      1000\n",
      "\n",
      "    accuracy                           0.45      2000\n",
      "   macro avg       0.29      0.45      0.32      2000\n",
      "weighted avg       0.29      0.45      0.32      2000\n",
      "\n"
     ]
    }
   ],
   "source": [
    "from sklearn.metrics import classification_report\n",
    "\n",
    "pred_in_one[pred_in_one == -1] = 0\n",
    "\n",
    "cat_images_mask = (test_id_labels == 1)\n",
    "print(classification_report(cat_images_mask, pred_in_one))"
   ]
  },
  {
   "cell_type": "code",
   "execution_count": null,
   "metadata": {},
   "outputs": [],
   "source": []
  }
 ],
 "metadata": {
  "kernelspec": {
   "display_name": "hammersack",
   "language": "python",
   "name": "hammersack"
  },
  "language_info": {
   "codemirror_mode": {
    "name": "ipython",
    "version": 3
   },
   "file_extension": ".py",
   "mimetype": "text/x-python",
   "name": "python",
   "nbconvert_exporter": "python",
   "pygments_lexer": "ipython3",
   "version": "3.7.4"
  }
 },
 "nbformat": 4,
 "nbformat_minor": 4
}
